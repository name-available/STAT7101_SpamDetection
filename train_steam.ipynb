{
 "cells": [
  {
   "cell_type": "markdown",
   "metadata": {},
   "source": [
    "## Dataload"
   ]
  },
  {
   "cell_type": "code",
   "execution_count": 1,
   "metadata": {},
   "outputs": [
    {
     "name": "stdout",
     "output_type": "stream",
     "text": [
      "                                                text  label\n",
      "0  Review: Nice coop game, Playtime: 19, Voted Up...      0\n",
      "1  Review: It's actually pretty good i recommend ...      1\n",
      "2  Review: This game is glitchy as sh!t. It's fun...      1\n",
      "3  Review: This game is all I hoped for and more....      1\n",
      "4  Review: Fun discoveries and challenge at every...      1\n"
     ]
    },
    {
     "data": {
      "text/plain": [
       "((1168, 2), (146, 2), (147, 2))"
      ]
     },
     "execution_count": 1,
     "metadata": {},
     "output_type": "execute_result"
    }
   ],
   "source": [
    "from dataloader import dataloader_steam as steam_loader\n",
    "\n",
    "train_data, dev_data, test_data = steam_loader.load_data()\n",
    "\n",
    "\n",
    "print(train_data.head())\n",
    "train_data.shape, dev_data.shape, test_data.shape"
   ]
  },
  {
   "cell_type": "markdown",
   "metadata": {},
   "source": [
    "## MultinomialNB"
   ]
  },
  {
   "cell_type": "code",
   "execution_count": 19,
   "metadata": {},
   "outputs": [],
   "source": [
    "from sklearn.pipeline import Pipeline\n",
    "import os\n",
    "from datetime import datetime\n",
    "from sklearn.feature_extraction.text import CountVectorizer\n",
    "from sklearn.naive_bayes import MultinomialNB\n",
    "from sklearn.svm import LinearSVC\n",
    "from sklearn.feature_extraction.text import TfidfVectorizer\n",
    "from sklearn.metrics import confusion_matrix, accuracy_score, precision_score, recall_score, f1_score, roc_auc_score, roc_curve, classification_report"
   ]
  },
  {
   "cell_type": "markdown",
   "metadata": {},
   "source": [
    "### result"
   ]
  },
  {
   "cell_type": "code",
   "execution_count": 21,
   "metadata": {},
   "outputs": [
    {
     "name": "stdout",
     "output_type": "stream",
     "text": [
      "\n",
      "Train ROC AUC: 0.8908766103059581\n",
      "Test ROC AUC: 0.7918956043956044\n",
      "\n",
      "Train Accuracy: 0.916095890410959\n",
      "Test Accuracy: 0.8231292517006803\n",
      "\n",
      "Train Classification Report:\n",
      "               precision    recall  f1-score   support\n",
      "\n",
      "           0       0.82      0.92      0.87        91\n",
      "           1       0.84      0.66      0.74        56\n",
      "\n",
      "    accuracy                           0.82       147\n",
      "   macro avg       0.83      0.79      0.80       147\n",
      "weighted avg       0.83      0.82      0.82       147\n",
      "\n"
     ]
    }
   ],
   "source": [
    "model = Pipeline([\n",
    "    ('vectorizer',TfidfVectorizer()),  # Step 1: Text data transformation\n",
    "    ('nb', MultinomialNB())  # Step 2: Classification using Naive Bayes\n",
    "])\n",
    "\n",
    "x_train = train_data['text']\n",
    "y_train = train_data['label']\n",
    "\n",
    "x_test = test_data['text']\n",
    "y_test = test_data['label']\n",
    "\n",
    "\n",
    "model.fit(x_train, y_train)\n",
    "\n",
    "y_pred_train = model.predict(x_train)\n",
    "y_pred_test = model.predict(x_test)\n",
    "\n",
    "roc_auc_train = roc_auc_score(y_train, y_pred_train)\n",
    "acc_score_train = accuracy_score(y_train, y_pred_train)\n",
    "roc_auc_test = roc_auc_score(y_test, y_pred_test)\n",
    "acc_score_test = accuracy_score(y_test, y_pred_test)\n",
    "print(\"\\nTrain ROC AUC:\", roc_auc_train)\n",
    "print(\"Test ROC AUC:\", roc_auc_test)\n",
    "print(\"\\nTrain Accuracy:\", acc_score_train)\n",
    "print(\"Test Accuracy:\", acc_score_test)\n",
    "print(\"\\nTrain Classification Report:\\n\", classification_report(y_test, y_pred_test))"
   ]
  },
  {
   "cell_type": "markdown",
   "metadata": {},
   "source": [
    "### save log"
   ]
  },
  {
   "cell_type": "code",
   "execution_count": 23,
   "metadata": {},
   "outputs": [],
   "source": [
    "# Create logs directory if it doesn't exist\n",
    "if not os.path.exists('logs'):\n",
    "    os.makedirs('logs')\n",
    "\n",
    "# Define the log file name\n",
    "log_file_name = f\"MultinomialNB-steam.log\"\n",
    "log_file_path = os.path.join('logs', log_file_name)\n",
    "\n",
    "# Save the results to the log file\n",
    "with open(log_file_path, 'w') as log_file:\n",
    "    log_file.write(f\"{datetime.now().strftime('%Y%m%d-%H%M%S')}\\n\")\n",
    "    log_file.write(f\"Train ROC AUC: {roc_auc_train}\\n\")\n",
    "    log_file.write(f\"Test ROC AUC: {roc_auc_test}\\n\")\n",
    "    log_file.write(f\"Train Accuracy: {acc_score_train}\\n\")\n",
    "    log_file.write(f\"Test Accuracy: {acc_score_test}\\n\")\n",
    "    log_file.write(f\"Train Classification Report:\\n{classification_report(y_train, y_pred_train)}\\n\")\n",
    "    log_file.write(f\"Test Classification Report:\\n{classification_report(y_test, y_pred_test)}\\n\")\n"
   ]
  },
  {
   "cell_type": "markdown",
   "metadata": {},
   "source": [
    "## LinearMVC"
   ]
  },
  {
   "cell_type": "code",
   "execution_count": 24,
   "metadata": {},
   "outputs": [
    {
     "name": "stdout",
     "output_type": "stream",
     "text": [
      "\n",
      "Train ROC AUC: 1.0\n",
      "Test ROC AUC: 0.7671703296703296\n",
      "\n",
      "Train Accuracy: 1.0\n",
      "Test Accuracy: 0.7755102040816326\n",
      "\n",
      "Train Classification Report:\n",
      "               precision    recall  f1-score   support\n",
      "\n",
      "           0       0.83      0.80      0.82        91\n",
      "           1       0.69      0.73      0.71        56\n",
      "\n",
      "    accuracy                           0.78       147\n",
      "   macro avg       0.76      0.77      0.76       147\n",
      "weighted avg       0.78      0.78      0.78       147\n",
      "\n"
     ]
    }
   ],
   "source": [
    "model = Pipeline([\n",
    "    ('vectorizer', TfidfVectorizer()), \n",
    "    ('LinearSVC', LinearSVC(random_state=42)) \n",
    "])\n",
    "\n",
    "model.fit(x_train, y_train)\n",
    "\n",
    "y_pred_train = model.predict(x_train)\n",
    "y_pred_test = model.predict(x_test)\n",
    "\n",
    "roc_auc_train = roc_auc_score(y_train, y_pred_train)\n",
    "acc_score_train = accuracy_score(y_train, y_pred_train)\n",
    "roc_auc_test = roc_auc_score(y_test, y_pred_test)\n",
    "acc_score_test = accuracy_score(y_test, y_pred_test)\n",
    "print(\"\\nTrain ROC AUC:\", roc_auc_train)\n",
    "print(\"Test ROC AUC:\", roc_auc_test)\n",
    "print(\"\\nTrain Accuracy:\", acc_score_train)\n",
    "print(\"Test Accuracy:\", acc_score_test)\n",
    "print(\"\\nTrain Classification Report:\\n\", classification_report(y_test, y_pred_test))"
   ]
  },
  {
   "cell_type": "code",
   "execution_count": 25,
   "metadata": {},
   "outputs": [],
   "source": [
    "# Create logs directory if it doesn't exist\n",
    "if not os.path.exists('logs'):\n",
    "    os.makedirs('logs')\n",
    "\n",
    "# Define the log file name\n",
    "log_file_name = f\"LinearMVC-steam.log\"\n",
    "log_file_path = os.path.join('logs', log_file_name)\n",
    "\n",
    "# Save the results to the log file\n",
    "with open(log_file_path, 'w') as log_file:\n",
    "    log_file.write(f\"{datetime.now().strftime('%Y%m%d-%H%M%S')}\\n\")\n",
    "    log_file.write(f\"Train ROC AUC: {roc_auc_train}\\n\")\n",
    "    log_file.write(f\"Test ROC AUC: {roc_auc_test}\\n\")\n",
    "    log_file.write(f\"Train Accuracy: {acc_score_train}\\n\")\n",
    "    log_file.write(f\"Test Accuracy: {acc_score_test}\\n\")\n",
    "    log_file.write(f\"Train Classification Report:\\n{classification_report(y_train, y_pred_train)}\\n\")\n",
    "    log_file.write(f\"Test Classification Report:\\n{classification_report(y_test, y_pred_test)}\\n\")\n"
   ]
  },
  {
   "cell_type": "markdown",
   "metadata": {},
   "source": [
    "## Logistic Regression"
   ]
  },
  {
   "cell_type": "code",
   "execution_count": 27,
   "metadata": {},
   "outputs": [],
   "source": [
    "from pyspark.ml.feature import Tokenizer, StopWordsRemover, HashingTF, IDF\n",
    "from pyspark.ml.classification import LogisticRegression\n",
    "from pyspark.ml import Pipeline\n",
    "from pyspark.ml.evaluation import MulticlassClassificationEvaluator, BinaryClassificationEvaluator"
   ]
  },
  {
   "cell_type": "code",
   "execution_count": null,
   "metadata": {},
   "outputs": [],
   "source": [
    "# Preprocess the data\n",
    "tokenizer = Tokenizer(inputCol=\"text\", outputCol=\"tokens\")\n",
    "remover = StopWordsRemover(inputCol=\"tokens\", outputCol=\"filtered_tokens\")\n",
    "hashingTF = HashingTF(inputCol=\"filtered_tokens\", outputCol=\"rawFeatures\")\n",
    "idf = IDF(inputCol=\"rawFeatures\", outputCol=\"features\")\n",
    "\n",
    "# Build the logistic regression model\n",
    "lr = LogisticRegression(labelCol=\"label\")\n",
    "\n",
    "# Construct the pipeline\n",
    "pipeline = Pipeline(stages=[tokenizer, remover, hashingTF, idf, lr])\n",
    "\n",
    "# Train the model\n",
    "model = pipeline.fit(train_data)\n",
    "\n",
    "# Predict on the whole dataset\n",
    "pred_train = model.transform(train_data)\n",
    "\n",
    "# Evaluate the model\n",
    "evaluator = BinaryClassificationEvaluator(labelCol=\"label\")\n",
    "\n",
    "\n",
    "\n",
    "\n",
    "\n",
    "\n"
   ]
  },
  {
   "cell_type": "markdown",
   "metadata": {},
   "source": [
    "## "
   ]
  }
 ],
 "metadata": {
  "kernelspec": {
   "display_name": "DASC7606",
   "language": "python",
   "name": "python3"
  },
  "language_info": {
   "codemirror_mode": {
    "name": "ipython",
    "version": 3
   },
   "file_extension": ".py",
   "mimetype": "text/x-python",
   "name": "python",
   "nbconvert_exporter": "python",
   "pygments_lexer": "ipython3",
   "version": "3.10.15"
  }
 },
 "nbformat": 4,
 "nbformat_minor": 2
}
