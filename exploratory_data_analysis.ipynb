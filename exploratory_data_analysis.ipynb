{
 "cells": [
  {
   "cell_type": "markdown",
   "metadata": {},
   "source": [
    "# Exploratory Data Analysis\n",
    "对数据集进行分析 获取部分关于数据集图表"
   ]
  },
  {
   "cell_type": "markdown",
   "metadata": {},
   "source": [
    "## Youtube Spam Dataset"
   ]
  },
  {
   "cell_type": "markdown",
   "metadata": {},
   "source": [
    "### Load Youtube Dataset"
   ]
  },
  {
   "cell_type": "code",
   "execution_count": null,
   "metadata": {},
   "outputs": [
    {
     "name": "stdout",
     "output_type": "stream",
     "text": [
      "                                                text  label\n",
      "0  Review: Nice coop game, Playtime: 19, Voted Up...      0\n",
      "1  Review: It's actually pretty good i recommend ...      1\n",
      "2  Review: This game is glitchy as sh!t. It's fun...      1\n",
      "3  Review: This game is all I hoped for and more....      1\n",
      "4  Review: Fun discoveries and challenge at every...      1\n"
     ]
    },
    {
     "data": {
      "text/plain": [
       "((1168, 2), (146, 2), (147, 2))"
      ]
     },
     "execution_count": 1,
     "metadata": {},
     "output_type": "execute_result"
    }
   ],
   "source": [
    "from dataloader import dataloader_steam as steam_loader\n",
    "\n",
    "steam_reviews = steam_loader.load_all_data()\n",
    "\n",
    "steam_reviews.head()\n",
    "steam_reviews.shape"
   ]
  },
  {
   "cell_type": "markdown",
   "metadata": {},
   "source": [
    "### "
   ]
  }
 ],
 "metadata": {
  "kernelspec": {
   "display_name": "DASC7606",
   "language": "python",
   "name": "python3"
  },
  "language_info": {
   "codemirror_mode": {
    "name": "ipython",
    "version": 3
   },
   "file_extension": ".py",
   "mimetype": "text/x-python",
   "name": "python",
   "nbconvert_exporter": "python",
   "pygments_lexer": "ipython3",
   "version": "3.10.15"
  }
 },
 "nbformat": 4,
 "nbformat_minor": 2
}
