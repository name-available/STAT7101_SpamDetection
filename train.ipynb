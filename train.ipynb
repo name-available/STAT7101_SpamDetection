{
 "cells": [
  {
   "cell_type": "markdown",
   "metadata": {},
   "source": [
    "## Dataload"
   ]
  },
  {
   "cell_type": "code",
   "execution_count": 4,
   "metadata": {},
   "outputs": [
    {
     "name": "stdout",
     "output_type": "stream",
     "text": [
      "  Huh, anyway check out this you[tube] channel: kobyoshi02  1\n",
      "0                  Subscribe to my channel :)  &lt;3        1\n",
      "1                                       Song name??﻿        0\n",
      "2            2 billion views, only 2 million shares﻿        0\n",
      "3                                             good!!        0\n",
      "4  Check out this video on YouTube:<br /><br /><b...        1\n"
     ]
    },
    {
     "data": {
      "text/plain": [
       "((1026, 2), (342, 2), (342, 2))"
      ]
     },
     "execution_count": 4,
     "metadata": {},
     "output_type": "execute_result"
    }
   ],
   "source": [
    "from dataloader import dataloader_youtube_spam as UTB_loader\n",
    "\n",
    "train_data, dev_data, test_data = UTB_loader.load_data()\n",
    "\n",
    "\n",
    "print(train_data.head())\n",
    "train_data.shape, dev_data.shape, test_data.shape"
   ]
  },
  {
   "cell_type": "markdown",
   "metadata": {},
   "source": [
    "## Model"
   ]
  },
  {
   "cell_type": "code",
   "execution_count": null,
   "metadata": {},
   "outputs": [],
   "source": [
    "from sklearn.pipeline import Pipeline\n",
    "from sklearn.feature_extraction.text import CountVectorizer\n",
    "from sklearn.naive_bayes import MultinomialNB\n",
    "\n",
    "model = Pipeline([\n",
    "    ('vectorizer', CountVectorizer()),  # Step 1: Text data transformation\n",
    "    ('nb', MultinomialNB())  # Step 2: Classification using Naive Bayes\n",
    "])\n",
    "\n",
    "X_train = train_data['CONTENT']\n",
    "y_train = train_data['CLASS']\n",
    "\n",
    "model.fit(X_train, y_train)"
   ]
  }
 ],
 "metadata": {
  "kernelspec": {
   "display_name": "DASC7606",
   "language": "python",
   "name": "python3"
  },
  "language_info": {
   "codemirror_mode": {
    "name": "ipython",
    "version": 3
   },
   "file_extension": ".py",
   "mimetype": "text/x-python",
   "name": "python",
   "nbconvert_exporter": "python",
   "pygments_lexer": "ipython3",
   "version": "3.10.15"
  }
 },
 "nbformat": 4,
 "nbformat_minor": 2
}
